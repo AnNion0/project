{
 "cells": [
  {
   "cell_type": "markdown",
   "id": "8095cff4",
   "metadata": {},
   "source": [
    "# (1) 데이터 불러오기"
   ]
  },
  {
   "cell_type": "code",
   "execution_count": 1,
   "id": "f3dfc59e",
   "metadata": {},
   "outputs": [],
   "source": [
    "import json\n",
    "import pandas as pd\n",
    "import numpy as np\n",
    "with open('D:/플레이리스트_24/genre_gn_all.json', 'r', encoding='utf-8') as f:\n",
    "\n",
    "    json_data_genre = json.load(f)\n",
    "pd_genre = pd.DataFrame(list(json_data_genre.keys()),list(json_data_genre.values())).reset_index(drop=False)\n",
    "pd_genre.columns=['genre', 'code']\n",
    "\n",
    "\n",
    "with open('D:/플레이리스트_24/song_meta.json', 'r', encoding='utf-8') as f:\n",
    "\n",
    "    json_data_song = json.load(f)\n",
    "pd_song=pd.DataFrame(json_data_song)"
   ]
  },
  {
   "cell_type": "code",
   "execution_count": 2,
   "id": "af5665ff",
   "metadata": {},
   "outputs": [],
   "source": [
    "with open('D:/플레이리스트_24/train.json', 'r', encoding='utf-8') as f:\n",
    "\n",
    "    json_data_train = json.load(f)\n",
    "pd_train=pd.DataFrame(json_data_train)\n",
    "\n",
    "with open('D:/플레이리스트_24/test.json', 'r', encoding='utf-8') as f:\n",
    "\n",
    "    json_data_test = json.load(f)\n",
    "pd_test=pd.DataFrame(json_data_test)    \n",
    "\n",
    "with open('D:/플레이리스트_24/val.json', 'r', encoding='utf-8') as f:\n",
    "\n",
    "    json_data_val = json.load(f)\n",
    "pd_val=pd.DataFrame(json_data_val)\n",
    "\n",
    "tag_data=pd.concat([pd_train,pd_test, pd_val]).reset_index(drop=True)\n",
    "tag_data=tag_data.set_index(['id'])"
   ]
  },
  {
   "cell_type": "markdown",
   "id": "36f64e34",
   "metadata": {},
   "source": [
    "# (2) 태그 데이터 제거"
   ]
  },
  {
   "cell_type": "code",
   "execution_count": 3,
   "id": "0223504c",
   "metadata": {},
   "outputs": [],
   "source": [
    "# 결측값 제거\n",
    "pd_data_na=tag_data[(tag_data['songs'].apply(len)!=0) & (tag_data['tags'].apply(len)!=0)]\n",
    "pd_data_na=pd_data_na.reset_index(drop=False)"
   ]
  },
  {
   "cell_type": "code",
   "execution_count": 4,
   "id": "c623514c",
   "metadata": {},
   "outputs": [],
   "source": [
    "from collections import Counter\n",
    "tags_series = pd_data_na['tags'].explode()\n",
    "c = tags_series.tolist()\n",
    "\n",
    "tag_counts = Counter(c)\n",
    "df_tag_counts = pd.DataFrame(tag_counts.items(), columns=['tag', 'count'])\n",
    "df_tag_counts = df_tag_counts.sort_values(by='count', ascending=False)"
   ]
  },
  {
   "cell_type": "code",
   "execution_count": 5,
   "id": "76d2f116",
   "metadata": {},
   "outputs": [],
   "source": [
    "# 특수문자 제거\n",
    "import re\n",
    "def remove_special_characters(text):\n",
    "    return re.sub(r'[^\\w\\s]|_', '', text)\n",
    "\n",
    "df_tag_counts['tag'] = df_tag_counts['tag'].apply(remove_special_characters)"
   ]
  },
  {
   "cell_type": "code",
   "execution_count": 6,
   "id": "9740ebbe",
   "metadata": {},
   "outputs": [],
   "source": [
    "# 장르 제거\n",
    "words_to_remove = pd_genre['genre'].str.lower()\n",
    "\n",
    "def remove_words(text, words):\n",
    "    pattern = r'\\b(?:' + '|'.join(re.escape(word) for word in words) + r')\\b'\n",
    "    return re.sub(pattern, '', text)\n",
    "\n",
    "df_tag_counts['text_column'] = df_tag_counts['tag'].str.lower().apply(lambda x: remove_words(x, words_to_remove))"
   ]
  },
  {
   "cell_type": "code",
   "execution_count": 7,
   "id": "24bcd13a",
   "metadata": {},
   "outputs": [],
   "source": [
    "# 숫자 제거\n",
    "def remove_numbers(cell):\n",
    "    if re.search(r'\\d', str(cell)):\n",
    "        return ''\n",
    "    else:\n",
    "        return cell\n",
    "\n",
    "df_tag_counts['num_drop'] = df_tag_counts['tag'].apply(remove_numbers)"
   ]
  },
  {
   "cell_type": "code",
   "execution_count": 8,
   "id": "aa30eb99",
   "metadata": {},
   "outputs": [],
   "source": [
    "# 제거 후 결측값 행 삭제\n",
    "df_delete=df_tag_counts[(df_tag_counts['text_column'] != \"\") & (df_tag_counts['num_drop'] != \"\")][['tag','count']]\n",
    "df_delete.columns = ['num', 'count']"
   ]
  },
  {
   "cell_type": "code",
   "execution_count": 10,
   "id": "19323074",
   "metadata": {},
   "outputs": [],
   "source": [
    "# 노래, 음악, 차트, 플레이리스트 태그 제거\n",
    "import pandas as pd\n",
    "import re\n",
    "\n",
    "words_to_remove = ['노래', '음악', '차트', '플레이리스트']\n",
    "\n",
    "def remove_words(text, words):\n",
    "    pattern = re.compile('|'.join([re.escape(word) for word in words]))\n",
    "    return pattern.sub('', text)\n",
    "\n",
    "df_delete['num'] = df_delete['num'].apply(lambda x: remove_words(x, words_to_remove))\n",
    "\n",
    "data_delete=df_delete[df_delete['num']!=\"\"]"
   ]
  },
  {
   "cell_type": "code",
   "execution_count": 12,
   "id": "284e9679",
   "metadata": {},
   "outputs": [],
   "source": [
    "# 한글자 의미있는 태그만 남기고 데이터 삭제\n",
    "df_delete_1=data_delete[data_delete['num'].apply(len)!=1]\n",
    "\n",
    "add_data=pd.concat([data_delete[data_delete['num'].apply(len)==1].iloc[0:6],data_delete[data_delete['num'].apply(len)==1].iloc[7:19], data_delete[data_delete['num'].apply(len)==1].iloc[20:25],data_delete[data_delete['num'].apply(len)==1].iloc[31:32]])\n",
    "\n",
    "df_data=pd.concat([df_delete_1,add_data]).sort_values(by='count',ascending = False)"
   ]
  },
  {
   "cell_type": "code",
   "execution_count": 13,
   "id": "3344b856",
   "metadata": {},
   "outputs": [],
   "source": [
    "# 태그 빈도 19 이상만 추출\n",
    "df_data=pd.concat([df_delete_1,add_data]).sort_values(by='count',ascending = False)\n",
    "list_tag=df_data[df_data['count']>=19]"
   ]
  },
  {
   "cell_type": "markdown",
   "id": "7bfbaa16",
   "metadata": {},
   "source": [
    "# (3) 태그 gpt로 전처리(분위기, 장소, 시간, 날씨, 감정, 상황 태그만 추출)"
   ]
  },
  {
   "cell_type": "markdown",
   "id": "778cef5b",
   "metadata": {},
   "source": [
    "# (4) 연령대 태그 생성"
   ]
  },
  {
   "cell_type": "code",
   "execution_count": 14,
   "id": "8c6c81da",
   "metadata": {},
   "outputs": [],
   "source": [
    "#gpt로 전처리된 태그 데이터\n",
    "df_태그_전처리 = pd.read_csv(\"태그_개수포함_240725.csv\", encoding=\"cp949\")"
   ]
  },
  {
   "cell_type": "code",
   "execution_count": 15,
   "id": "ccfb68f7",
   "metadata": {},
   "outputs": [],
   "source": [
    "from collections import Counter\n",
    "\n",
    "tags_series = pd_data_na['tags'].explode()\n",
    "song_series = pd_data_na['songs'].explode()\n",
    "\n",
    "tag_song=pd.merge(pd.DataFrame(tags_series).reset_index(drop=False),pd.DataFrame(song_series).reset_index(drop=False),left_on='index', right_on='index', how='outer')"
   ]
  },
  {
   "cell_type": "code",
   "execution_count": 16,
   "id": "68650b03",
   "metadata": {},
   "outputs": [],
   "source": [
    "tag_song_list=pd.merge(tag_song, pd_song,left_on='songs', right_on='id', how='left')\n",
    "년도=pd.concat([tag_song_list[tag_song_list['tags']==\"8090\"], tag_song_list[tag_song_list['tags']==\"7080\"], tag_song_list[tag_song_list['tags']==\"6070\"], tag_song_list[tag_song_list['tags']==\"5060\"], tag_song_list[tag_song_list['tags']==\"3040\"], tag_song_list[tag_song_list['tags']==\"40대\"], tag_song_list[tag_song_list['tags']==\"30대\"], tag_song_list[tag_song_list['tags']==\"20대\"], tag_song_list[tag_song_list['tags']==\"10대\"]])\n",
    "\n",
    "년도['num']=년도['tags'].replace({'7080':'50대 이상', '8090':'30~40대', '20대':'10~20대', '30대':'30~40대', '10대':'10~20대', '3040':'30~40대', '6070':'50대 이상', '5060':'50대 이상', '40대':'30~40대'})"
   ]
  },
  {
   "cell_type": "markdown",
   "id": "ba067e58",
   "metadata": {},
   "source": [
    "# 플레이리스트 전처리된 태그만 추출"
   ]
  },
  {
   "cell_type": "code",
   "execution_count": 17,
   "id": "949b7ff7",
   "metadata": {},
   "outputs": [],
   "source": [
    "import pandas as pd\n",
    "import re\n",
    "def remove_special_characters(text):\n",
    "    # 특수문자를 공백으로 대체\n",
    "    return re.sub(r'[^\\w\\s]|_', '', text)\n",
    "\n",
    "\n",
    "\n",
    "tag_song['tags'] = tag_song['tags'].apply(remove_special_characters)"
   ]
  },
  {
   "cell_type": "code",
   "execution_count": 18,
   "id": "fd3eeac2",
   "metadata": {},
   "outputs": [],
   "source": [
    "import re\n",
    "def remove_numbers(cell):\n",
    "    if re.search(r'\\d', str(cell)):\n",
    "        return ''\n",
    "    else:\n",
    "        return cell\n",
    "\n",
    "\n",
    "tag_song['num'] = tag_song['tags'].apply(remove_numbers)"
   ]
  },
  {
   "cell_type": "code",
   "execution_count": 19,
   "id": "b008b3e6",
   "metadata": {},
   "outputs": [],
   "source": [
    "import re\n",
    "def remove_numbers(cell):\n",
    "    if re.search(r'\\d', str(cell)):\n",
    "        return ''\n",
    "    else:\n",
    "        return cell\n",
    "\n",
    "\n",
    "tag_song['num'] = tag_song['tags'].apply(remove_numbers)"
   ]
  },
  {
   "cell_type": "code",
   "execution_count": 20,
   "id": "4fc68992",
   "metadata": {},
   "outputs": [],
   "source": [
    "df_delete=tag_song[tag_song['num'] != \"\"]"
   ]
  },
  {
   "cell_type": "code",
   "execution_count": 21,
   "id": "cd959276",
   "metadata": {},
   "outputs": [
    {
     "name": "stderr",
     "output_type": "stream",
     "text": [
      "C:\\Users\\ahn\\AppData\\Local\\Temp\\ipykernel_31888\\2666524126.py:14: SettingWithCopyWarning: \n",
      "A value is trying to be set on a copy of a slice from a DataFrame.\n",
      "Try using .loc[row_indexer,col_indexer] = value instead\n",
      "\n",
      "See the caveats in the documentation: https://pandas.pydata.org/pandas-docs/stable/user_guide/indexing.html#returning-a-view-versus-a-copy\n",
      "  df_delete['num'] = df_delete['num'].apply(lambda x: remove_words(x, words_to_remove))\n"
     ]
    }
   ],
   "source": [
    "import pandas as pd\n",
    "import re\n",
    "\n",
    "words_to_remove = ['노래', '음악', '차트', '플레이리스트']\n",
    "\n",
    "def remove_words(text, words):\n",
    "\n",
    "    pattern = re.compile('|'.join([re.escape(word) for word in words]))\n",
    "\n",
    "    return pattern.sub('', text)\n",
    "\n",
    "\n",
    "df_delete['num'] = df_delete['num'].apply(lambda x: remove_words(x, words_to_remove))"
   ]
  },
  {
   "cell_type": "code",
   "execution_count": 22,
   "id": "ec291a47",
   "metadata": {},
   "outputs": [],
   "source": [
    "data_delete=df_delete[df_delete['num']!=\"\"]\n",
    "df_delete_1=data_delete[data_delete['num'].apply(len)!=1]"
   ]
  },
  {
   "cell_type": "code",
   "execution_count": 23,
   "id": "01aeb542",
   "metadata": {},
   "outputs": [],
   "source": [
    "import pandas as pd\n",
    "\n",
    "\n",
    "search_strings = [\n",
    "    \"밤\",\"팝\",\"락\",\"봄\",\"랩\",\"비\",\"눈\",\"썸\",\"집\",\"잠\",\"흥\",\"펍\",\"책\",\"꿈\",\"별\",\"춤\",\"꽃\",\"술\",\"힘\",\"일\",\"힙\",\"쉼\",\"차\",\"낮\"\n",
    "]\n",
    "\n",
    "add_data = data_delete[data_delete['num'].isin(search_strings)]\n",
    "\n",
    "add_data=pd.DataFrame(add_data)"
   ]
  },
  {
   "cell_type": "code",
   "execution_count": 24,
   "id": "ef36874f",
   "metadata": {},
   "outputs": [],
   "source": [
    "df_data_final=pd.concat([df_delete_1,add_data])"
   ]
  },
  {
   "cell_type": "code",
   "execution_count": 25,
   "id": "5a1cada0",
   "metadata": {},
   "outputs": [],
   "source": [
    "search_list = list(df_태그_전처리['단어'])\n",
    "filtered_df = df_data_final[df_data_final['num'].isin(search_list)]\n",
    "filtered_df\n",
    "# 연령대 태그 결합\n",
    "년도=년도[['index', 'num','songs']]\n",
    "filtered_df=filtered_df[['index','num','songs']]\n",
    "filtered_data =pd.concat([filtered_df, 년도]).reset_index(drop=True)\n",
    "filtered_df_tag = filtered_data.drop_duplicates(subset=['index', 'num'])\n",
    "filtered_df_series_1=filtered_df_tag.set_index('index')\n",
    "filtered_df_series_2=filtered_data.set_index('index')\n",
    "플레이리스트=pd.concat([filtered_df_series_2['songs'].groupby(filtered_df_series_2.index).apply(set), filtered_df_series_1['num'].groupby(filtered_df_series_1.index).apply(list)], axis=1)\n",
    "플레이리스트['songs']=플레이리스트['songs'].apply(list)"
   ]
  },
  {
   "cell_type": "code",
   "execution_count": 26,
   "id": "43041f62",
   "metadata": {},
   "outputs": [],
   "source": [
    "최종플레이리스트=pd.merge(플레이리스트.reset_index(drop=False), pd_data_na.reset_index(drop=False), left_on='index', right_on='index', how='left')[['index', 'num', 'plylst_title','songs_y','like_cnt','updt_date']]\n",
    "최종플레이리스트.columns = ['index', 'tags', 'plylst_title','songs','like_cnt','updt_date']\n",
    "최종플레이리스트.to_csv(\"최종플레이리스트(1).csv\", encoding='utf-8')"
   ]
  },
  {
   "cell_type": "markdown",
   "id": "c97dfb64",
   "metadata": {},
   "source": [
    "# 노래 데이터 -> 플레이리스트에 있는 곡만 추출"
   ]
  },
  {
   "cell_type": "code",
   "execution_count": 27,
   "id": "640a8698",
   "metadata": {},
   "outputs": [],
   "source": [
    "from collections import Counter\n",
    "\n",
    "tags_series = 플레이리스트['num'].explode()\n",
    "song_series = 플레이리스트['songs'].explode()\n",
    "\n",
    "플레이리스트_tag_song=pd.merge(pd.DataFrame(tags_series).reset_index(drop=False),pd.DataFrame(song_series).reset_index(drop=False),left_on='index', right_on='index', how='outer')\n",
    "플레이리스트_tag_song=플레이리스트_tag_song.drop_duplicates(subset=['num', 'songs'])[['num','songs']]"
   ]
  },
  {
   "cell_type": "code",
   "execution_count": 28,
   "id": "e27e46a9",
   "metadata": {},
   "outputs": [],
   "source": [
    "song_list_final1=플레이리스트_tag_song.set_index('songs')\n",
    "song_list_tag=pd.DataFrame(song_list_final1['num'].groupby(song_list_final1.index).apply(list)).reset_index(drop=False)\n",
    "song_list_tag.columns=['songs','tags']\n",
    "최종_songlist=pd.merge(pd_song, song_list_tag, left_on='id', right_on='songs', how='left').dropna()"
   ]
  },
  {
   "cell_type": "code",
   "execution_count": 29,
   "id": "b5d46600",
   "metadata": {},
   "outputs": [],
   "source": [
    "# 장르 코드를 텍스트로 변환, 출시날짜 -> 출시연도\n",
    "장르변경=최종_songlist.set_index('id')\n",
    "장르변경_a=pd.DataFrame(장르변경['song_gn_gnr_basket'].explode())\n",
    "장르변경_a=장르변경_a.reset_index(drop=False)\n",
    "장르변경_b=pd.merge(장르변경_a, pd_genre, left_on='song_gn_gnr_basket', right_on='code', how='left').set_index('id')\n",
    "장르변경_c=장르변경_b['genre'].groupby(장르변경_b.index).apply(list)\n",
    "장르변경_c=장르변경_c.reset_index(drop=False)\n",
    "장르변경_최종=pd.merge(최종_songlist.reset_index(drop=False), 장르변경_c, left_on='id', right_on='id', how='left')\n",
    "장르변경_최종['발매_year']=장르변경_최종['issue_date'].str[0:4]\n",
    "장르변경_최종['발매_year'] = 장르변경_최종['발매_year'].replace('0000', \"\")\n",
    "장르변경_최종[['song_gn_dtl_gnr_basket','issue_date','album_name','album_id','artist_id_basket','song_name','song_gn_gnr_basket','artist_name_basket','id','tags','genre','발매_year']]\n",
    "장르변경_최종.to_csv(\"최종노래목록(1).csv\", encoding=\"cp949\")"
   ]
  },
  {
   "cell_type": "markdown",
   "id": "c3267273",
   "metadata": {},
   "source": [
    "# 성능평가 데이터"
   ]
  },
  {
   "cell_type": "markdown",
   "id": "756d38a7",
   "metadata": {},
   "source": [
    "### (1) 플레이리스트 데이터"
   ]
  },
  {
   "cell_type": "code",
   "execution_count": 30,
   "id": "5a1d5ea3",
   "metadata": {},
   "outputs": [],
   "source": [
    "with open('train.json', 'r', encoding='utf-8') as f:\n",
    "    json_data_train = json.load(f)\n",
    "pd_train_1=pd.DataFrame(json_data_train)"
   ]
  },
  {
   "cell_type": "code",
   "execution_count": 31,
   "id": "fae6949a",
   "metadata": {},
   "outputs": [],
   "source": [
    "pd_train_1['tags'] = pd_train_1['tags'].apply(lambda x: str(x))\n",
    "pd_train_1['songs'] = pd_train_1['songs'].apply(lambda x: str(x))"
   ]
  },
  {
   "cell_type": "code",
   "execution_count": 32,
   "id": "452dffcc",
   "metadata": {},
   "outputs": [],
   "source": [
    "pd_data_na_index=pd_data_na.reset_index(drop=False)\n",
    "pd_data_na_index['tags']=pd_data_na_index['tags'].apply(lambda x: str(x))\n",
    "pd_data_na_index['plylst_title']=pd_data_na_index['plylst_title'].apply(lambda x: str(x))\n",
    "pd_data_na_index['songs']=pd_data_na_index['songs'].apply(lambda x: str(x))"
   ]
  },
  {
   "cell_type": "code",
   "execution_count": 33,
   "id": "b01c8a6f",
   "metadata": {},
   "outputs": [],
   "source": [
    "pd_train_1['tags']=pd_train_1['tags'].apply(lambda x: str(x))\n",
    "pd_train_1['plylst_title']=pd_train_1['plylst_title'].apply(lambda x: str(x))\n",
    "pd_train_1['songs']=pd_train_1['songs'].apply(lambda x: str(x))"
   ]
  },
  {
   "cell_type": "code",
   "execution_count": 34,
   "id": "d1766f13",
   "metadata": {},
   "outputs": [],
   "source": [
    "결합=pd.merge(pd_train_1,pd_data_na_index, left_on=['tags', 'plylst_title', 'songs'], right_on=['tags', 'plylst_title', 'songs'], how='left')"
   ]
  },
  {
   "cell_type": "code",
   "execution_count": 35,
   "id": "cfe98a32",
   "metadata": {},
   "outputs": [],
   "source": [
    "결합_1=결합[['index', 'tags','plylst_title','like_cnt_x','updt_date_x']]"
   ]
  },
  {
   "cell_type": "code",
   "execution_count": 36,
   "id": "aa80fe83",
   "metadata": {},
   "outputs": [],
   "source": [
    "결합데이터_data=pd.read_csv(\"최종플레이리스트(1).csv\",encoding='utf-8')"
   ]
  },
  {
   "cell_type": "code",
   "execution_count": 37,
   "id": "01514c5b",
   "metadata": {},
   "outputs": [],
   "source": [
    "플레이리스트_전체 = pd.merge(결합_1, 결합데이터_data, left_on='index', right_on='index', how='left')"
   ]
  },
  {
   "cell_type": "code",
   "execution_count": 38,
   "id": "ba333a21",
   "metadata": {},
   "outputs": [],
   "source": [
    "플레이리스트_=플레이리스트_전체[['index', 'tags_y','plylst_title_y','songs', 'like_cnt','updt_date']].dropna(subset=['tags_y'])"
   ]
  },
  {
   "cell_type": "code",
   "execution_count": 39,
   "id": "c8043016",
   "metadata": {},
   "outputs": [],
   "source": [
    "플레이리스트_.columns = ['index', 'tag', 'plyst_title', 'songs', 'like_cnt', 'updt_date']"
   ]
  },
  {
   "cell_type": "code",
   "execution_count": 40,
   "id": "51fc9a74",
   "metadata": {},
   "outputs": [],
   "source": [
    "플레이리스트_=플레이리스트_.sort_values(by='index').reset_index(drop=True)"
   ]
  },
  {
   "cell_type": "code",
   "execution_count": 41,
   "id": "e0e58319",
   "metadata": {},
   "outputs": [],
   "source": [
    "플레이리스트_.to_json('플레이리스트_train_최종(1).json')"
   ]
  },
  {
   "cell_type": "markdown",
   "id": "ec4400bc",
   "metadata": {},
   "source": [
    "### (2) 노래목록 데이터"
   ]
  },
  {
   "cell_type": "code",
   "execution_count": 42,
   "id": "3a2ce796",
   "metadata": {},
   "outputs": [],
   "source": [
    "import ast\n",
    "플레이리스트_['tag']=플레이리스트_['tag'].apply(ast.literal_eval)\n",
    "플레이리스트_['songs']=플레이리스트_['songs'].apply(ast.literal_eval)"
   ]
  },
  {
   "cell_type": "code",
   "execution_count": 43,
   "id": "986c6dce",
   "metadata": {},
   "outputs": [],
   "source": [
    "from collections import Counter\n",
    "\n",
    "tags_series = 플레이리스트_['tag'].explode()\n",
    "song_series = 플레이리스트_['songs'].explode()\n",
    "\n",
    "플레이리스트_tag_song=pd.merge(pd.DataFrame(tags_series).reset_index(drop=False),pd.DataFrame(song_series).reset_index(drop=False),left_on='index', right_on='index', how='outer')\n",
    "플레이리스트_tag_song=플레이리스트_tag_song.drop_duplicates(subset=['tag', 'songs'])[['tag','songs']]"
   ]
  },
  {
   "cell_type": "code",
   "execution_count": 44,
   "id": "fe3e5107",
   "metadata": {},
   "outputs": [],
   "source": [
    "song_list_final1=플레이리스트_tag_song.set_index('songs')\n",
    "song_list_tag=pd.DataFrame(song_list_final1['tag'].groupby(song_list_final1.index).apply(list)).reset_index(drop=False)"
   ]
  },
  {
   "cell_type": "code",
   "execution_count": 45,
   "id": "f9f688d2",
   "metadata": {},
   "outputs": [],
   "source": [
    "최종_songlist=pd.merge(pd_song, song_list_tag, left_on='id', right_on='songs', how='left').dropna()"
   ]
  },
  {
   "cell_type": "code",
   "execution_count": 46,
   "id": "565c2e06",
   "metadata": {},
   "outputs": [],
   "source": [
    "장르변경=최종_songlist.set_index('id')\n",
    "장르변경_a=pd.DataFrame(장르변경['song_gn_gnr_basket'].explode())\n",
    "장르변경_a=장르변경_a.reset_index(drop=False)\n",
    "장르변경_b=pd.merge(장르변경_a, pd_genre, left_on='song_gn_gnr_basket', right_on='code', how='left').set_index('id')\n",
    "장르변경_c=장르변경_b['genre'].groupby(장르변경_b.index).apply(list)\n",
    "장르변경_c=장르변경_c.reset_index(drop=False)\n",
    "장르변경_최종=pd.merge(최종_songlist.reset_index(drop=False), 장르변경_c, left_on='id', right_on='id', how='left')\n",
    "장르변경_최종['발매_year']=장르변경_최종['issue_date'].str[0:4]\n",
    "장르변경_최종['발매_year'] = 장르변경_최종['발매_year'].replace('0000', \"\")\n",
    "장르변경_최종[['song_gn_dtl_gnr_basket','issue_date','album_name','album_id','artist_id_basket','song_name','song_gn_gnr_basket','artist_name_basket','id','tag','genre','발매_year']]\n",
    "장르변경_최종.to_json('노래목록_train_최종(1).json')"
   ]
  }
 ],
 "metadata": {
  "kernelspec": {
   "display_name": "Python (myenv)",
   "language": "python",
   "name": "myenv"
  },
  "language_info": {
   "codemirror_mode": {
    "name": "ipython",
    "version": 3
   },
   "file_extension": ".py",
   "mimetype": "text/x-python",
   "name": "python",
   "nbconvert_exporter": "python",
   "pygments_lexer": "ipython3",
   "version": "3.9.7"
  }
 },
 "nbformat": 4,
 "nbformat_minor": 5
}
