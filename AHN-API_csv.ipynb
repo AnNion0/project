{
 "cells": [
  {
   "cell_type": "code",
   "execution_count": 1,
   "id": "45967d27",
   "metadata": {},
   "outputs": [
    {
     "name": "stdout",
     "output_type": "stream",
     "text": [
      "b'<?xml version=\"1.0\" encoding=\"UTF-8\" standalone=\"yes\"?><response><header><resultCode>00</resultCode><resultMsg>NORMAL SERVICE.</resultMsg></header><body><items><item><bBac>0</bBac><bBod>3.0</bBod><bSs>2.0</bSs><bTn>8.922</bTn><bTp>0.069</bTp><bVal>2,147</bVal><loccd>47000</loccd><locnm>\\xec\\x97\\xb0\\xec\\x84\\x9c\\xea\\xb3\\xb5\\xea\\xb3\\xb5\\xed\\x95\\x98\\xec\\x88\\x98\\xec\\xb2\\x98\\xeb\\xa6\\xac\\xec\\x8b\\x9c\\xec\\x84\\xa4</locnm><temper>-4.5</temper><uBac>42,000</uBac><uBod>489.0</uBod><uSs>155.0</uSs><uTn>52.483</uTn><uTp>5.864</uTp><uVal>2,599</uVal><weather>\\xeb\\xa7\\x91\\xec\\x9d\\x8c</weather><wqdt>2022-01-01</wqdt><wtemper>14.6</wtemper></item><item><bBac>0</bBac><bBod>3.5</bBod><bSs>2.6</bSs><bTn>8.759</bTn><bTp>0.078</bTp><bVal>1,999</bVal><loccd>47000</loccd><locnm>\\xec\\x97\\xb0\\xec\\x84\\x9c\\xea\\xb3\\xb5\\xea\\xb3\\xb5\\xed\\x95\\x98\\xec\\x88\\x98\\xec\\xb2\\x98\\xeb\\xa6\\xac\\xec\\x8b\\x9c\\xec\\x84\\xa4</locnm><temper>-0.9</temper><uBac>22,000</uBac><uBod>478.5</uBod><uSs>140.0</uSs><uTn>49.496</uTn><uTp>5.936</uTp><uVal>2,422</uVal><weather>\\xeb\\xa7\\x91\\xec\\x9d\\x8c</weather><wqdt>2022-01-02</wqdt><wtemper>14.7</wtemper></item><item><bBac>0</bBac><bBod>3.2</bBod><bSs>2.4</bSs><bTn>9.356</bTn><bTp>0.087</bTp><bVal>2,172</bVal><loccd>47000</loccd><locnm>\\xec\\x97\\xb0\\xec\\x84\\x9c\\xea\\xb3\\xb5\\xea\\xb3\\xb5\\xed\\x95\\x98\\xec\\x88\\x98\\xec\\xb2\\x98\\xeb\\xa6\\xac\\xec\\x8b\\x9c\\xec\\x84\\xa4</locnm><temper>-1.7</temper><uBac>31,000</uBac><uBod>473.1</uBod><uSs>195.0</uSs><uTn>60.899</uTn><uTp>7.152</uTp><uVal>2,628</uVal><weather>\\xeb\\xa7\\x91\\xec\\x9d\\x8c</weather><wqdt>2022-01-03</wqdt><wtemper>14.9</wtemper></item><item><bBac>0</bBac><bBod>2.1</bBod><bSs>2.8</bSs><bTn>8.964</bTn><bTp>0.086</bTp><bVal>2,171</bVal><loccd>47000</loccd><locnm>\\xec\\x97\\xb0\\xec\\x84\\x9c\\xea\\xb3\\xb5\\xea\\xb3\\xb5\\xed\\x95\\x98\\xec\\x88\\x98\\xec\\xb2\\x98\\xeb\\xa6\\xac\\xec\\x8b\\x9c\\xec\\x84\\xa4</locnm><temper>-0.2</temper><uBac>39,000</uBac><uBod>441.0</uBod><uSs>195.0</uSs><uTn>51.827</uTn><uTp>6.229</uTp><uVal>2,616</uVal><weather>\\xeb\\xa7\\x91\\xec\\x9d\\x8c</weather><wqdt>2022-01-04</wqdt><wtemper>13.9</wtemper></item><item><bBac>1</bBac><bBod>2.4</bBod><bSs>2.0</bSs><bTn>8.641</bTn><bTp>0.069</bTp><bVal>2,123</bVal><loccd>47000</loccd><locnm>\\xec\\x97\\xb0\\xec\\x84\\x9c\\xea\\xb3\\xb5\\xea\\xb3\\xb5\\xed\\x95\\x98\\xec\\x88\\x98\\xec\\xb2\\x98\\xeb\\xa6\\xac\\xec\\x8b\\x9c\\xec\\x84\\xa4</locnm><temper>-2</temper><uBac>110,000</uBac><uBod>457.5</uBod><uSs>170.0</uSs><uTn>61.014</uTn><uTp>7.594</uTp><uVal>2,586</uVal><weather>\\xed\\x9d\\x90\\xeb\\xa6\\xbc</weather><wqdt>2022-01-05</wqdt><wtemper>13.8</wtemper></item><item><bBac>1</bBac><bBod>2.2</bBod><bSs>3.4</bSs><bTn>8.053</bTn><bTp>0.073</bTp><bVal>2,037</bVal><loccd>47000</loccd><locnm>\\xec\\x97\\xb0\\xec\\x84\\x9c\\xea\\xb3\\xb5\\xea\\xb3\\xb5\\xed\\x95\\x98\\xec\\x88\\x98\\xec\\xb2\\x98\\xeb\\xa6\\xac\\xec\\x8b\\x9c\\xec\\x84\\xa4</locnm><temper>-0.4</temper><uBac>110,000</uBac><uBod>271.5</uBod><uSs>255.0</uSs><uTn>55.377</uTn><uTp>7.108</uTp><uVal>2,466</uVal><weather>\\xeb\\xa7\\x91\\xec\\x9d\\x8c</weather><wqdt>2022-01-06</wqdt><wtemper>13.9</wtemper></item><item><bBac>1</bBac><bBod>2.2</bBod><bSs>2.4</bSs><bTn>9.020</bTn><bTp>0.072</bTp><bVal>2,210</bVal><loccd>47000</loccd><locnm>\\xec\\x97\\xb0\\xec\\x84\\x9c\\xea\\xb3\\xb5\\xea\\xb3\\xb5\\xed\\x95\\x98\\xec\\x88\\x98\\xec\\xb2\\x98\\xeb\\xa6\\xac\\xec\\x8b\\x9c\\xec\\x84\\xa4</locnm><temper>-1.2</temper><uBac>60,000</uBac><uBod>301.5</uBod><uSs>180.0</uSs><uTn>62.316</uTn><uTp>7.338</uTp><uVal>2,632</uVal><weather>\\xeb\\xa7\\x91\\xec\\x9d\\x8c</weather><wqdt>2022-01-07</wqdt><wtemper>13.7</wtemper></item><item><bBac>1</bBac><bBod>1.6</bBod><bSs>2.4</bSs><bTn>10.615</bTn><bTp>0.086</bTp><bVal>2,151</bVal><loccd>47000</loccd><locnm>\\xec\\x97\\xb0\\xec\\x84\\x9c\\xea\\xb3\\xb5\\xea\\xb3\\xb5\\xed\\x95\\x98\\xec\\x88\\x98\\xec\\xb2\\x98\\xeb\\xa6\\xac\\xec\\x8b\\x9c\\xec\\x84\\xa4</locnm><temper>0.7</temper><uBac>120,000</uBac><uBod>160.5</uBod><uSs>75.0</uSs><uTn>47.225</uTn><uTp>3.774</uTp><uVal>2,588</uVal><weather>\\xed\\x9d\\x90\\xeb\\xa6\\xbc</weather><wqdt>2022-01-08</wqdt><wtemper>13.5</wtemper></item><item><bBac>0</bBac><bBod>1.7</bBod><bSs>3.2</bSs><bTn>7.105</bTn><bTp>0.080</bTp><bVal>2,079</bVal><loccd>47000</loccd><locnm>\\xec\\x97\\xb0\\xec\\x84\\x9c\\xea\\xb3\\xb5\\xea\\xb3\\xb5\\xed\\x95\\x98\\xec\\x88\\x98\\xec\\xb2\\x98\\xeb\\xa6\\xac\\xec\\x8b\\x9c\\xec\\x84\\xa4</locnm><temper>2.8</temper><uBac>29,000</uBac><uBod>229.5</uBod><uSs>200.0</uSs><uTn>48.061</uTn><uTp>5.449</uTp><uVal>2,524</uVal><weather>\\xeb\\xa7\\x91\\xec\\x9d\\x8c</weather><wqdt>2022-01-09</wqdt><wtemper>13.6</wtemper></item><item><bBac>1</bBac><bBod>1.7</bBod><bSs>2.8</bSs><bTn>8.554</bTn><bTp>0.068</bTp><bVal>2,061</bVal><loccd>47000</loccd><locnm>\\xec\\x97\\xb0\\xec\\x84\\x9c\\xea\\xb3\\xb5\\xea\\xb3\\xb5\\xed\\x95\\x98\\xec\\x88\\x98\\xec\\xb2\\x98\\xeb\\xa6\\xac\\xec\\x8b\\x9c\\xec\\x84\\xa4</locnm><temper>0.7</temper><uBac>110,000</uBac><uBod>217.5</uBod><uSs>210.0</uSs><uTn>60.320</uTn><uTp>6.565</uTp><uVal>2,497</uVal><weather>\\xeb\\x88\\x88</weather><wqdt>2022-01-10</wqdt><wtemper>13.7</wtemper></item></items><numOfRows>10</numOfRows><pageNo>1</pageNo><totalCount>32</totalCount></body></response>'\n"
     ]
    }
   ],
   "source": [
    "import requests\n",
    "\n",
    "key = \"4WXIeE3OgUhGN4I9RRuqw1B8SqCyJDhqDS3zjkJ2187s%2FxBnkAC6P%2BBCeQfrtrUaPrWLwdRI2WFijdY3zZu9Gw%3D%3D\"\n",
    "\n",
    "url = \"http://opendata.kwater.or.kr/openapi-data/service/pubd/sewerage/waterQuality/day/list?stDt=2022-01-01&edDt=2022-02-02&loccd=47000&numOfRows=10&pageNo=1&ServiceKey={}\".format(key)\n",
    "\n",
    "content = requests.get(url).content\n",
    "print(content)"
   ]
  },
  {
   "cell_type": "code",
   "execution_count": 3,
   "id": "fe517649",
   "metadata": {},
   "outputs": [
    {
     "name": "stdout",
     "output_type": "stream",
     "text": [
      "[<item><bBac>0</bBac><bBod>3.0</bBod><bSs>2.0</bSs><bTn>8.922</bTn><bTp>0.069</bTp><bVal>2,147</bVal><loccd>47000</loccd><locnm>연서공공하수처리시설</locnm><temper>-4.5</temper><uBac>42,000</uBac><uBod>489.0</uBod><uSs>155.0</uSs><uTn>52.483</uTn><uTp>5.864</uTp><uVal>2,599</uVal><weather>맑음</weather><wqdt>2022-01-01</wqdt><wtemper>14.6</wtemper></item>, <item><bBac>0</bBac><bBod>3.5</bBod><bSs>2.6</bSs><bTn>8.759</bTn><bTp>0.078</bTp><bVal>1,999</bVal><loccd>47000</loccd><locnm>연서공공하수처리시설</locnm><temper>-0.9</temper><uBac>22,000</uBac><uBod>478.5</uBod><uSs>140.0</uSs><uTn>49.496</uTn><uTp>5.936</uTp><uVal>2,422</uVal><weather>맑음</weather><wqdt>2022-01-02</wqdt><wtemper>14.7</wtemper></item>, <item><bBac>0</bBac><bBod>3.2</bBod><bSs>2.4</bSs><bTn>9.356</bTn><bTp>0.087</bTp><bVal>2,172</bVal><loccd>47000</loccd><locnm>연서공공하수처리시설</locnm><temper>-1.7</temper><uBac>31,000</uBac><uBod>473.1</uBod><uSs>195.0</uSs><uTn>60.899</uTn><uTp>7.152</uTp><uVal>2,628</uVal><weather>맑음</weather><wqdt>2022-01-03</wqdt><wtemper>14.9</wtemper></item>, <item><bBac>0</bBac><bBod>2.1</bBod><bSs>2.8</bSs><bTn>8.964</bTn><bTp>0.086</bTp><bVal>2,171</bVal><loccd>47000</loccd><locnm>연서공공하수처리시설</locnm><temper>-0.2</temper><uBac>39,000</uBac><uBod>441.0</uBod><uSs>195.0</uSs><uTn>51.827</uTn><uTp>6.229</uTp><uVal>2,616</uVal><weather>맑음</weather><wqdt>2022-01-04</wqdt><wtemper>13.9</wtemper></item>, <item><bBac>1</bBac><bBod>2.4</bBod><bSs>2.0</bSs><bTn>8.641</bTn><bTp>0.069</bTp><bVal>2,123</bVal><loccd>47000</loccd><locnm>연서공공하수처리시설</locnm><temper>-2</temper><uBac>110,000</uBac><uBod>457.5</uBod><uSs>170.0</uSs><uTn>61.014</uTn><uTp>7.594</uTp><uVal>2,586</uVal><weather>흐림</weather><wqdt>2022-01-05</wqdt><wtemper>13.8</wtemper></item>, <item><bBac>1</bBac><bBod>2.2</bBod><bSs>3.4</bSs><bTn>8.053</bTn><bTp>0.073</bTp><bVal>2,037</bVal><loccd>47000</loccd><locnm>연서공공하수처리시설</locnm><temper>-0.4</temper><uBac>110,000</uBac><uBod>271.5</uBod><uSs>255.0</uSs><uTn>55.377</uTn><uTp>7.108</uTp><uVal>2,466</uVal><weather>맑음</weather><wqdt>2022-01-06</wqdt><wtemper>13.9</wtemper></item>, <item><bBac>1</bBac><bBod>2.2</bBod><bSs>2.4</bSs><bTn>9.020</bTn><bTp>0.072</bTp><bVal>2,210</bVal><loccd>47000</loccd><locnm>연서공공하수처리시설</locnm><temper>-1.2</temper><uBac>60,000</uBac><uBod>301.5</uBod><uSs>180.0</uSs><uTn>62.316</uTn><uTp>7.338</uTp><uVal>2,632</uVal><weather>맑음</weather><wqdt>2022-01-07</wqdt><wtemper>13.7</wtemper></item>, <item><bBac>1</bBac><bBod>1.6</bBod><bSs>2.4</bSs><bTn>10.615</bTn><bTp>0.086</bTp><bVal>2,151</bVal><loccd>47000</loccd><locnm>연서공공하수처리시설</locnm><temper>0.7</temper><uBac>120,000</uBac><uBod>160.5</uBod><uSs>75.0</uSs><uTn>47.225</uTn><uTp>3.774</uTp><uVal>2,588</uVal><weather>흐림</weather><wqdt>2022-01-08</wqdt><wtemper>13.5</wtemper></item>, <item><bBac>0</bBac><bBod>1.7</bBod><bSs>3.2</bSs><bTn>7.105</bTn><bTp>0.080</bTp><bVal>2,079</bVal><loccd>47000</loccd><locnm>연서공공하수처리시설</locnm><temper>2.8</temper><uBac>29,000</uBac><uBod>229.5</uBod><uSs>200.0</uSs><uTn>48.061</uTn><uTp>5.449</uTp><uVal>2,524</uVal><weather>맑음</weather><wqdt>2022-01-09</wqdt><wtemper>13.6</wtemper></item>, <item><bBac>1</bBac><bBod>1.7</bBod><bSs>2.8</bSs><bTn>8.554</bTn><bTp>0.068</bTp><bVal>2,061</bVal><loccd>47000</loccd><locnm>연서공공하수처리시설</locnm><temper>0.7</temper><uBac>110,000</uBac><uBod>217.5</uBod><uSs>210.0</uSs><uTn>60.320</uTn><uTp>6.565</uTp><uVal>2,497</uVal><weather>눈</weather><wqdt>2022-01-10</wqdt><wtemper>13.7</wtemper></item>]\n",
      "  bBac bBod  bSs     bTn    bTp   bVal  loccd       locnm temper     uBac  \\\n",
      "0    0  3.0  2.0   8.922  0.069  2,147  47000  연서공공하수처리시설   -4.5   42,000   \n",
      "1    0  3.5  2.6   8.759  0.078  1,999  47000  연서공공하수처리시설   -0.9   22,000   \n",
      "2    0  3.2  2.4   9.356  0.087  2,172  47000  연서공공하수처리시설   -1.7   31,000   \n",
      "3    0  2.1  2.8   8.964  0.086  2,171  47000  연서공공하수처리시설   -0.2   39,000   \n",
      "4    1  2.4  2.0   8.641  0.069  2,123  47000  연서공공하수처리시설     -2  110,000   \n",
      "5    1  2.2  3.4   8.053  0.073  2,037  47000  연서공공하수처리시설   -0.4  110,000   \n",
      "6    1  2.2  2.4   9.020  0.072  2,210  47000  연서공공하수처리시설   -1.2   60,000   \n",
      "7    1  1.6  2.4  10.615  0.086  2,151  47000  연서공공하수처리시설    0.7  120,000   \n",
      "8    0  1.7  3.2   7.105  0.080  2,079  47000  연서공공하수처리시설    2.8   29,000   \n",
      "9    1  1.7  2.8   8.554  0.068  2,061  47000  연서공공하수처리시설    0.7  110,000   \n",
      "\n",
      "    uBod    uSs     uTn    uTp   uVal weather        wqdt wtemper  \n",
      "0  489.0  155.0  52.483  5.864  2,599      맑음  2022-01-01    14.6  \n",
      "1  478.5  140.0  49.496  5.936  2,422      맑음  2022-01-02    14.7  \n",
      "2  473.1  195.0  60.899  7.152  2,628      맑음  2022-01-03    14.9  \n",
      "3  441.0  195.0  51.827  6.229  2,616      맑음  2022-01-04    13.9  \n",
      "4  457.5  170.0  61.014  7.594  2,586      흐림  2022-01-05    13.8  \n",
      "5  271.5  255.0  55.377  7.108  2,466      맑음  2022-01-06    13.9  \n",
      "6  301.5  180.0  62.316  7.338  2,632      맑음  2022-01-07    13.7  \n",
      "7  160.5   75.0  47.225  3.774  2,588      흐림  2022-01-08    13.5  \n",
      "8  229.5  200.0  48.061  5.449  2,524      맑음  2022-01-09    13.6  \n",
      "9  217.5  210.0  60.320  6.565  2,497       눈  2022-01-10    13.7  \n"
     ]
    }
   ],
   "source": [
    "### xml을 DataFrame으로 변환하기 ###\n",
    "from os import name\n",
    "import xml.etree.ElementTree as et\n",
    "import pandas as pd\n",
    "import bs4\n",
    "from lxml import html\n",
    "from urllib.parse import urlencode, quote_plus, unquote\n",
    "\n",
    "## 각 컬럼 값 ## (포털 문서에서 꼭 확인하세요) \n",
    "\n",
    "#bs4 사용하여 item 태그 분리\n",
    "\n",
    "xml_obj = bs4.BeautifulSoup(content,'lxml-xml')\n",
    "rows = xml_obj.findAll('item')\n",
    "print(rows)\n",
    "\"\"\"\n",
    "# 컬럼 값 조회용\n",
    "columns = rows[0].find_all()\n",
    "print(columns)\n",
    "\"\"\"\n",
    "\n",
    "# 각 행의 컬럼, 이름, 값을 가지는 리스트 만들기\n",
    "row_list = [] # 행값\n",
    "name_list = [] # 열이름값\n",
    "value_list = [] #데이터값\n",
    "\n",
    "# xml 안의 데이터 수집\n",
    "for i in range(0, len(rows)):\n",
    "    columns = rows[i].find_all()\n",
    "    #첫째 행 데이터 수집\n",
    "    for j in range(0,len(columns)):\n",
    "        if i ==0:\n",
    "            # 컬럼 이름 값 저장\n",
    "            name_list.append(columns[j].name)\n",
    "        # 컬럼의 각 데이터 값 저장\n",
    "        value_list.append(columns[j].text)\n",
    "    # 각 행의 value값 전체 저장\n",
    "    row_list.append(value_list)\n",
    "    # 데이터 리스트 값 초기화\n",
    "    value_list=[]\n",
    "\n",
    "#xml값 DataFrame으로 만들기\n",
    "water_df = pd.DataFrame(row_list, columns=name_list)\n",
    "print(water_df.head(19)) \n",
    "\n",
    "#DataFrame CSV 파일로 저장\n",
    "water_df.to_csv('water.csv', encoding='utf-8')"
   ]
  },
  {
   "cell_type": "code",
   "execution_count": null,
   "id": "79915bf6",
   "metadata": {},
   "outputs": [],
   "source": []
  }
 ],
 "metadata": {
  "kernelspec": {
   "display_name": "Python 3 (ipykernel)",
   "language": "python",
   "name": "python3"
  },
  "language_info": {
   "codemirror_mode": {
    "name": "ipython",
    "version": 3
   },
   "file_extension": ".py",
   "mimetype": "text/x-python",
   "name": "python",
   "nbconvert_exporter": "python",
   "pygments_lexer": "ipython3",
   "version": "3.9.7"
  }
 },
 "nbformat": 4,
 "nbformat_minor": 5
}
